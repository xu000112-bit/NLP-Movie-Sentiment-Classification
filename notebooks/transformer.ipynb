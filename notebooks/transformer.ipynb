{
 "cells": [
  {
   "cell_type": "code",
   "execution_count": 1,
   "id": "Q6opj9LtX4Q_",
   "metadata": {
    "colab": {
     "base_uri": "https://localhost:8080/"
    },
    "id": "Q6opj9LtX4Q_",
    "outputId": "176ea6b2-3cd9-4bae-9ea6-755808ac23b1"
   },
   "outputs": [
    {
     "name": "stdout",
     "output_type": "stream",
     "text": [
      "Mounted at /content/drive\n"
     ]
    }
   ],
   "source": [
    "from google.colab import drive\n",
    "drive.mount('/content/drive')"
   ]
  },
  {
   "cell_type": "code",
   "execution_count": 3,
   "id": "1e1be101",
   "metadata": {
    "id": "1e1be101"
   },
   "outputs": [],
   "source": [
    "import ssl\n",
    "import pandas as pd\n",
    "import numpy as np"
   ]
  },
  {
   "cell_type": "code",
   "execution_count": 5,
   "id": "825b5970",
   "metadata": {
    "id": "825b5970"
   },
   "outputs": [],
   "source": [
    "data = pd.read_csv(\"./drive/MyDrive/Colab Notebooks/cleanIMDB.csv\")"
   ]
  },
  {
   "cell_type": "markdown",
   "id": "b265fa90",
   "metadata": {
    "id": "b265fa90"
   },
   "source": [
    "## Models\n"
   ]
  },
  {
   "cell_type": "code",
   "execution_count": 11,
   "id": "e0e83029",
   "metadata": {
    "id": "e0e83029"
   },
   "outputs": [],
   "source": [
    "from keras.preprocessing.text import Tokenizer\n",
    "\n",
    "# Assuming 'data.review' contains your text data\n",
    "tokenizer = Tokenizer(num_words=5000)  # This will keep only the 5000 most frequent words\n",
    "tokenizer.fit_on_texts(data['review'])\n",
    "\n",
    "X = tokenizer.texts_to_sequences(data['review'])\n"
   ]
  },
  {
   "cell_type": "code",
   "execution_count": 12,
   "id": "f63915cc",
   "metadata": {
    "id": "f63915cc"
   },
   "outputs": [],
   "source": [
    "from keras.preprocessing.sequence import pad_sequences\n",
    "\n",
    "max_review_length = 500  # Define the maximum length of the reviews\n",
    "X_padded = pad_sequences(X, maxlen=max_review_length)\n"
   ]
  },
  {
   "cell_type": "code",
   "execution_count": 13,
   "id": "4c6d2b28",
   "metadata": {
    "id": "4c6d2b28"
   },
   "outputs": [],
   "source": [
    "from sklearn.model_selection import train_test_split\n",
    "\n",
    "y = data['sentiment']  # Assuming 'sentiment' column contains your labels\n",
    "X_train_padded, X_test_padded, y_train, y_test = train_test_split(X_padded, y, test_size=0.2, random_state=42)\n"
   ]
  },
  {
   "cell_type": "markdown",
   "id": "ea2aa8cf",
   "metadata": {
    "id": "ea2aa8cf"
   },
   "source": [
    "### Transformer"
   ]
  },
  {
   "cell_type": "code",
   "execution_count": 7,
   "id": "13912220",
   "metadata": {
    "id": "13912220"
   },
   "outputs": [],
   "source": [
    "import tensorflow as tf\n",
    "from tensorflow.keras.models import Sequential\n",
    "from tensorflow.keras.layers import Embedding, MultiHeadAttention, GlobalAveragePooling1D, Dense, Dropout\n",
    "from tensorflow.keras import layers"
   ]
  },
  {
   "cell_type": "code",
   "execution_count": 35,
   "id": "d8731ed7",
   "metadata": {
    "id": "d8731ed7"
   },
   "outputs": [],
   "source": [
    "def positional_encoding(max_len, d_model):\n",
    "    pos_enc = np.zeros((max_len, d_model))\n",
    "    for pos in range(max_len):\n",
    "        for i in range(0, d_model, 2):\n",
    "            pos_enc[pos, i] = np.sin(pos / (10000 ** ((2 * i)/d_model)))\n",
    "            pos_enc[pos, i + 1] = np.cos(pos / (10000 ** ((2 * (i + 1))/d_model)))\n",
    "    return pos_enc\n"
   ]
  },
  {
   "cell_type": "code",
   "execution_count": 34,
   "id": "0aa15296",
   "metadata": {
    "id": "0aa15296"
   },
   "outputs": [],
   "source": [
    "class TransformerBlock(layers.Layer):\n",
    "    def __init__(self, embed_dim, num_heads, ff_dim, rate=0.1):\n",
    "        super(TransformerBlock, self).__init__()\n",
    "        self.att = layers.MultiHeadAttention(num_heads=num_heads, key_dim=embed_dim)\n",
    "        self.ffn = tf.keras.Sequential(\n",
    "            [layers.Dense(ff_dim, activation=\"relu\"), layers.Dense(embed_dim),]\n",
    "        )\n",
    "        self.layernorm1 = layers.LayerNormalization(epsilon=1e-6)\n",
    "        self.layernorm2 = layers.LayerNormalization(epsilon=1e-6)\n",
    "        self.dropout1 = layers.Dropout(rate)\n",
    "        self.dropout2 = layers.Dropout(rate)\n",
    "\n",
    "    def call(self, inputs, training):\n",
    "        attn_output = self.att(inputs, inputs)\n",
    "        attn_output = self.dropout1(attn_output, training=training)\n",
    "        out1 = self.layernorm1(inputs + attn_output)\n",
    "        ffn_output = self.ffn(out1)\n",
    "        ffn_output = self.dropout2(ffn_output, training=training)\n",
    "        return self.layernorm2(out1 + ffn_output)\n"
   ]
  },
  {
   "cell_type": "code",
   "execution_count": 36,
   "id": "faaba918",
   "metadata": {
    "colab": {
     "base_uri": "https://localhost:8080/"
    },
    "id": "faaba918",
    "outputId": "d800a2ee-7447-485c-ffd7-bc319ab95796"
   },
   "outputs": [
    {
     "name": "stdout",
     "output_type": "stream",
     "text": [
      "Epoch 1/20\n",
      "1125/1125 [==============================] - 82s 70ms/step - loss: 0.3866 - accuracy: 0.8083 - val_loss: 0.2748 - val_accuracy: 0.8857\n",
      "Epoch 2/20\n",
      "1125/1125 [==============================] - 29s 26ms/step - loss: 0.2516 - accuracy: 0.9013 - val_loss: 0.2975 - val_accuracy: 0.8808\n",
      "Epoch 3/20\n",
      "1125/1125 [==============================] - 26s 23ms/step - loss: 0.2279 - accuracy: 0.9106 - val_loss: 0.2848 - val_accuracy: 0.8827\n",
      "Epoch 4/20\n",
      "1125/1125 [==============================] - 21s 19ms/step - loss: 0.2177 - accuracy: 0.9166 - val_loss: 0.2927 - val_accuracy: 0.8845\n",
      "Epoch 5/20\n",
      "1125/1125 [==============================] - 22s 19ms/step - loss: 0.2082 - accuracy: 0.9182 - val_loss: 0.3100 - val_accuracy: 0.8715\n",
      "Epoch 6/20\n",
      "1125/1125 [==============================] - 21s 19ms/step - loss: 0.1933 - accuracy: 0.9230 - val_loss: 0.2973 - val_accuracy: 0.8800\n",
      "Epoch 7/20\n",
      "1125/1125 [==============================] - 20s 17ms/step - loss: 0.1766 - accuracy: 0.9270 - val_loss: 0.3747 - val_accuracy: 0.8825\n",
      "Epoch 8/20\n",
      "1125/1125 [==============================] - 20s 18ms/step - loss: 0.1604 - accuracy: 0.9312 - val_loss: 0.3640 - val_accuracy: 0.8777\n",
      "Epoch 9/20\n",
      "1125/1125 [==============================] - 20s 18ms/step - loss: 0.1471 - accuracy: 0.9336 - val_loss: 0.3754 - val_accuracy: 0.8770\n",
      "Epoch 10/20\n",
      "1125/1125 [==============================] - 20s 18ms/step - loss: 0.1320 - accuracy: 0.9397 - val_loss: 0.4328 - val_accuracy: 0.8755\n",
      "Epoch 11/20\n",
      "1125/1125 [==============================] - 20s 18ms/step - loss: 0.1201 - accuracy: 0.9416 - val_loss: 0.4659 - val_accuracy: 0.8683\n",
      "Epoch 12/20\n",
      "1125/1125 [==============================] - 19s 17ms/step - loss: 0.1146 - accuracy: 0.9433 - val_loss: 0.4912 - val_accuracy: 0.8730\n",
      "Epoch 13/20\n",
      "1125/1125 [==============================] - 20s 18ms/step - loss: 0.1049 - accuracy: 0.9469 - val_loss: 0.5143 - val_accuracy: 0.8733\n",
      "Epoch 14/20\n",
      "1125/1125 [==============================] - 19s 17ms/step - loss: 0.0971 - accuracy: 0.9509 - val_loss: 0.5509 - val_accuracy: 0.8675\n",
      "Epoch 15/20\n",
      "1125/1125 [==============================] - 19s 17ms/step - loss: 0.0950 - accuracy: 0.9505 - val_loss: 0.6144 - val_accuracy: 0.8658\n",
      "Epoch 16/20\n",
      "1125/1125 [==============================] - 20s 18ms/step - loss: 0.0923 - accuracy: 0.9525 - val_loss: 0.5045 - val_accuracy: 0.8625\n",
      "Epoch 17/20\n",
      "1125/1125 [==============================] - 19s 17ms/step - loss: 0.0842 - accuracy: 0.9554 - val_loss: 0.6040 - val_accuracy: 0.8643\n",
      "Epoch 18/20\n",
      "1125/1125 [==============================] - 19s 17ms/step - loss: 0.0831 - accuracy: 0.9567 - val_loss: 0.5753 - val_accuracy: 0.8575\n",
      "Epoch 19/20\n",
      "1125/1125 [==============================] - 19s 17ms/step - loss: 0.0795 - accuracy: 0.9569 - val_loss: 0.6583 - val_accuracy: 0.8662\n",
      "Epoch 20/20\n",
      "1125/1125 [==============================] - 19s 17ms/step - loss: 0.0748 - accuracy: 0.9588 - val_loss: 0.6527 - val_accuracy: 0.8622\n"
     ]
    }
   ],
   "source": [
    "embed_dim = 32  # Embedding size for each token\n",
    "num_heads = 2  # Number of attention heads\n",
    "ff_dim = 32  # Hidden layer size in feed forward network\n",
    "max_review_length = 500\n",
    "inputs = layers.Input(shape=(max_review_length,))\n",
    "x = Embedding(input_dim=5000, output_dim=embed_dim)(inputs)\n",
    "x *= tf.math.sqrt(tf.cast(embed_dim, tf.float32))\n",
    "x += positional_encoding(max_review_length, embed_dim)\n",
    "x = TransformerBlock(embed_dim, num_heads, ff_dim)(x)\n",
    "x = GlobalAveragePooling1D()(x)\n",
    "x = Dropout(0.1)(x)\n",
    "x = Dense(20, activation=\"relu\")(x)\n",
    "x = Dropout(0.1)(x)\n",
    "outputs = Dense(1, activation=\"sigmoid\")(x)\n",
    "\n",
    "model_transformer = tf.keras.Model(inputs=inputs, outputs=outputs)\n",
    "\n",
    "# Compile the model\n",
    "model_transformer.compile(optimizer=\"adam\", loss=\"binary_crossentropy\", metrics=[\"accuracy\"])\n",
    "\n",
    "# Train the model\n",
    "history = model_transformer.fit(X_train_padded, y_train, batch_size=32, epochs=20, validation_split=0.1)\n"
   ]
  },
  {
   "cell_type": "code",
   "execution_count": 37,
   "id": "066246fe",
   "metadata": {
    "id": "066246fe"
   },
   "outputs": [],
   "source": [
    "model_transformer.save('./drive/MyDrive/Colab Notebooks/Transformer.h5')"
   ]
  },
  {
   "cell_type": "code",
   "execution_count": 30,
   "id": "F_nfd8wWdGyY",
   "metadata": {
    "colab": {
     "base_uri": "https://localhost:8080/"
    },
    "id": "F_nfd8wWdGyY",
    "outputId": "3648d274-5538-4b1b-950c-68bb5e1b500e"
   },
   "outputs": [
    {
     "name": "stdout",
     "output_type": "stream",
     "text": [
      "Model: \"model_1\"\n",
      "_________________________________________________________________\n",
      " Layer (type)                Output Shape              Param #   \n",
      "=================================================================\n",
      " input_2 (InputLayer)        [(None, 500)]             0         \n",
      "                                                                 \n",
      " embedding_1 (Embedding)     (None, 500, 32)           160000    \n",
      "                                                                 \n",
      " tf.math.multiply_1 (TFOpLa  (None, 500, 32)           0         \n",
      " mbda)                                                           \n",
      "                                                                 \n",
      " tf.math.add_1 (TFOpLambda)  (None, 500, 32)           0         \n",
      "                                                                 \n",
      " transformer_block_1 (Trans  (None, 500, 32)           10656     \n",
      " formerBlock)                                                    \n",
      "                                                                 \n",
      " global_average_pooling1d_1  (None, 32)                0         \n",
      "  (GlobalAveragePooling1D)                                       \n",
      "                                                                 \n",
      " dropout_6 (Dropout)         (None, 32)                0         \n",
      "                                                                 \n",
      " dense_6 (Dense)             (None, 20)                660       \n",
      "                                                                 \n",
      " dropout_7 (Dropout)         (None, 20)                0         \n",
      "                                                                 \n",
      " dense_7 (Dense)             (None, 1)                 21        \n",
      "                                                                 \n",
      "=================================================================\n",
      "Total params: 171337 (669.29 KB)\n",
      "Trainable params: 171337 (669.29 KB)\n",
      "Non-trainable params: 0 (0.00 Byte)\n",
      "_________________________________________________________________\n"
     ]
    }
   ],
   "source": [
    "model_transformer.summary()"
   ]
  },
  {
   "cell_type": "code",
   "execution_count": 38,
   "id": "iKZqQpGpb_9p",
   "metadata": {
    "colab": {
     "base_uri": "https://localhost:8080/"
    },
    "id": "iKZqQpGpb_9p",
    "outputId": "4dde4050-c767-4020-8840-4bd112ad728c"
   },
   "outputs": [
    {
     "name": "stdout",
     "output_type": "stream",
     "text": [
      "1250/1250 [==============================] - 7s 5ms/step\n",
      "313/313 [==============================] - 2s 7ms/step\n",
      "Classification Report for Training Set:\n",
      "              precision    recall  f1-score   support\n",
      "\n",
      "           0       0.92      0.98      0.95     20039\n",
      "           1       0.98      0.92      0.95     19961\n",
      "\n",
      "    accuracy                           0.95     40000\n",
      "   macro avg       0.95      0.95      0.95     40000\n",
      "weighted avg       0.95      0.95      0.95     40000\n",
      "\n",
      "Classification Report for Testing Set:\n",
      "              precision    recall  f1-score   support\n",
      "\n",
      "           0       0.83      0.90      0.87      4961\n",
      "           1       0.89      0.82      0.86      5039\n",
      "\n",
      "    accuracy                           0.86     10000\n",
      "   macro avg       0.86      0.86      0.86     10000\n",
      "weighted avg       0.86      0.86      0.86     10000\n",
      "\n"
     ]
    }
   ],
   "source": [
    "import numpy as np\n",
    "# Predictions for the training set\n",
    "y_train_pred = model_transformer.predict(X_train_padded)\n",
    "y_train_pred = (y_train_pred > 0.5)  # Converting probabilities to binary\n",
    "\n",
    "# Predictions for the testing set\n",
    "y_test_pred = model_transformer.predict(X_test_padded)\n",
    "y_test_pred = (y_test_pred > 0.5)\n",
    "\n",
    "from sklearn.metrics import classification_report\n",
    "\n",
    "# Assuming y_train and y_test contain the true labels for the training and testing sets respectively\n",
    "print(\"Classification Report for Training Set:\")\n",
    "print(classification_report(y_train, y_train_pred))\n",
    "\n",
    "print(\"Classification Report for Testing Set:\")\n",
    "print(classification_report(y_test, y_test_pred))\n"
   ]
  },
  {
   "cell_type": "code",
   "execution_count": 40,
   "id": "U2gAclPMcAqP",
   "metadata": {
    "colab": {
     "base_uri": "https://localhost:8080/",
     "height": 506
    },
    "id": "U2gAclPMcAqP",
    "outputId": "6fb35d86-d6b8-4244-92ee-62d9a991916c"
   },
   "outputs": [
    {
     "data": {
      "image/png": "[encoded data removed]",
      "text/plain": [
       "<Figure size 600x600 with 2 Axes>"
      ]
     },
     "metadata": {},
     "output_type": "display_data"
    }
   ],
   "source": [
    "from sklearn.metrics import confusion_matrix\n",
    "def plot_confusion_matrix(cm, title):\n",
    "    plt.figure(figsize=(6,6))\n",
    "    sns.heatmap(cm, annot=True, fmt=\"d\", linewidths=.5, square = True, cmap = 'Blues')\n",
    "    plt.ylabel('Actual label')\n",
    "    plt.xlabel('Predicted label')\n",
    "    plt.title(title)\n",
    "\n",
    "def plot_roc_curve(y_true, y_scores, set_name=\"Set\"):\n",
    "    fpr, tpr, thresholds = roc_curve(y_true, y_scores)\n",
    "    roc_auc = auc(fpr, tpr)\n",
    "\n",
    "    plt.figure()\n",
    "    plt.plot(fpr, tpr, color='darkorange', lw=2, label=f'ROC curve (area = {roc_auc:.2f})')\n",
    "    plt.plot([0, 1], [0, 1], color='navy', lw=2, linestyle='--')\n",
    "    plt.xlim([0.0, 1.0])\n",
    "    plt.ylim([0.0, 1.05])\n",
    "    plt.xlabel('False Positive Rate')\n",
    "    plt.ylabel('True Positive Rate')\n",
    "    plt.title(f'Receiver Operating Characteristic - {set_name}')\n",
    "    plt.legend(loc=\"lower right\")\n",
    "    plt.show()\n",
    "\n",
    "# Compute the confusion matrix\n",
    "cm = confusion_matrix(y_test, y_test_pred)\n",
    "plot_confusion_matrix(cm, title=\"Confusion Matrix\")"
   ]
  },
  {
   "cell_type": "code",
   "execution_count": 41,
   "id": "gNat5JNne268",
   "metadata": {
    "colab": {
     "base_uri": "https://localhost:8080/",
     "height": 313
    },
    "id": "gNat5JNne268",
    "outputId": "6df74511-fef9-4079-e58e-69d9aaefda79"
   },
   "outputs": [
    {
     "ename": "NameError",
     "evalue": "ignored",
     "output_type": "error",
     "traceback": [
      "\u001b[0;31m---------------------------------------------------------------------------\u001b[0m",
      "\u001b[0;31mNameError\u001b[0m                                 Traceback (most recent call last)",
      "\u001b[0;32m<ipython-input-41-a642446f641e>\u001b[0m in \u001b[0;36m<cell line: 1>\u001b[0;34m()\u001b[0m\n\u001b[0;32m----> 1\u001b[0;31m \u001b[0mplot_roc_curve\u001b[0m\u001b[0;34m(\u001b[0m\u001b[0my_test\u001b[0m\u001b[0;34m,\u001b[0m \u001b[0my_test_pred\u001b[0m\u001b[0;34m,\u001b[0m \u001b[0mset_name\u001b[0m\u001b[0;34m=\u001b[0m\u001b[0;34m\"Test\"\u001b[0m\u001b[0;34m)\u001b[0m\u001b[0;34m\u001b[0m\u001b[0;34m\u001b[0m\u001b[0m\n\u001b[0m",
      "\u001b[0;32m<ipython-input-40-5c24d0925a61>\u001b[0m in \u001b[0;36mplot_roc_curve\u001b[0;34m(y_true, y_scores, set_name)\u001b[0m\n\u001b[1;32m      8\u001b[0m \u001b[0;34m\u001b[0m\u001b[0m\n\u001b[1;32m      9\u001b[0m \u001b[0;32mdef\u001b[0m \u001b[0mplot_roc_curve\u001b[0m\u001b[0;34m(\u001b[0m\u001b[0my_true\u001b[0m\u001b[0;34m,\u001b[0m \u001b[0my_scores\u001b[0m\u001b[0;34m,\u001b[0m \u001b[0mset_name\u001b[0m\u001b[0;34m=\u001b[0m\u001b[0;34m\"Set\"\u001b[0m\u001b[0;34m)\u001b[0m\u001b[0;34m:\u001b[0m\u001b[0;34m\u001b[0m\u001b[0;34m\u001b[0m\u001b[0m\n\u001b[0;32m---> 10\u001b[0;31m     \u001b[0mfpr\u001b[0m\u001b[0;34m,\u001b[0m \u001b[0mtpr\u001b[0m\u001b[0;34m,\u001b[0m \u001b[0mthresholds\u001b[0m \u001b[0;34m=\u001b[0m \u001b[0mroc_curve\u001b[0m\u001b[0;34m(\u001b[0m\u001b[0my_true\u001b[0m\u001b[0;34m,\u001b[0m \u001b[0my_scores\u001b[0m\u001b[0;34m)\u001b[0m\u001b[0;34m\u001b[0m\u001b[0;34m\u001b[0m\u001b[0m\n\u001b[0m\u001b[1;32m     11\u001b[0m     \u001b[0mroc_auc\u001b[0m \u001b[0;34m=\u001b[0m \u001b[0mauc\u001b[0m\u001b[0;34m(\u001b[0m\u001b[0mfpr\u001b[0m\u001b[0;34m,\u001b[0m \u001b[0mtpr\u001b[0m\u001b[0;34m)\u001b[0m\u001b[0;34m\u001b[0m\u001b[0;34m\u001b[0m\u001b[0m\n\u001b[1;32m     12\u001b[0m \u001b[0;34m\u001b[0m\u001b[0m\n",
      "\u001b[0;31mNameError\u001b[0m: name 'roc_curve' is not defined"
     ]
    }
   ],
   "source": [
    "plot_roc_curve(y_test, y_test_pred, set_name=\"Test\")"
   ]
  }
 ],
 "metadata": {
  "accelerator": "GPU",
  "colab": {
   "gpuType": "T4",
   "provenance": []
  },
  "kernelspec": {
   "display_name": "Python 3 (ipykernel)",
   "language": "python",
   "name": "python3"
  },
  "language_info": {
   "codemirror_mode": {
    "name": "ipython",
    "version": 3
   },
   "file_extension": ".py",
   "mimetype": "text/x-python",
   "name": "python",
   "nbconvert_exporter": "python",
   "pygments_lexer": "ipython3",
   "version": "3.9.12"
  }
 },
 "nbformat": 4,
 "nbformat_minor": 5
}
